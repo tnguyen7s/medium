{
 "cells": [
  {
   "cell_type": "code",
   "execution_count": null,
   "metadata": {
    "id": "M4oFFtEwOSTO"
   },
   "outputs": [],
   "source": [
    "data = {\n",
    "  'email': 'test@gmail.com',\n",
    "  'password': 'ABCD1234efgh!'\n",
    "}"
   ]
  },
  {
   "cell_type": "markdown",
   "metadata": {
    "id": "F1oDkExaM12s"
   },
   "source": [
    "# JSON"
   ]
  },
  {
   "cell_type": "markdown",
   "metadata": {
    "id": "kcSVgBk2M8ZK"
   },
   "source": [
    "json.dumps() for data serialization into sequence of bytes"
   ]
  },
  {
   "cell_type": "code",
   "execution_count": null,
   "metadata": {
    "colab": {
     "base_uri": "https://localhost:8080/",
     "height": 71
    },
    "id": "0WBLv85PLqNA",
    "outputId": "9034d089-0cb9-4a5d-efc9-78327064bf7d"
   },
   "outputs": [
    {
     "name": "stdout",
     "output_type": "stream",
     "text": [
      "Type: <class 'str'>\n",
      "\n"
     ]
    },
    {
     "data": {
      "application/vnd.google.colaboratory.intrinsic+json": {
       "type": "string"
      },
      "text/plain": [
       "'{\"email\": \"test@gmail.com\", \"password\": \"ABCD1234efgh!\"}'"
      ]
     },
     "execution_count": 25,
     "metadata": {},
     "output_type": "execute_result"
    }
   ],
   "source": [
    "import json\n",
    "\n",
    "data_encoded_using_json = json.dumps(data)\n",
    "\n",
    "print('Type:', type(data_encoded_using_json))\n",
    "print()\n",
    "data_encoded_using_json"
   ]
  },
  {
   "cell_type": "markdown",
   "metadata": {
    "id": "RBR3FxehQhNs"
   },
   "source": [
    "json.loads() for data deserialization into object in memory"
   ]
  },
  {
   "cell_type": "code",
   "execution_count": null,
   "metadata": {
    "colab": {
     "base_uri": "https://localhost:8080/"
    },
    "id": "iyRdux3bQmv2",
    "outputId": "f63d4dff-829d-4d4f-e6c2-f431c7d1fae0"
   },
   "outputs": [
    {
     "name": "stdout",
     "output_type": "stream",
     "text": [
      "Type: <class 'dict'>\n",
      "\n"
     ]
    },
    {
     "data": {
      "text/plain": [
       "{'email': 'test@gmail.com', 'password': 'ABCD1234efgh!'}"
      ]
     },
     "execution_count": 28,
     "metadata": {},
     "output_type": "execute_result"
    }
   ],
   "source": [
    "import json\n",
    "\n",
    "data_decoded_using_json = json.loads(data_encoded_using_json)\n",
    "\n",
    "print('Type:', type(data_decoded_using_json))\n",
    "print()\n",
    "data_decoded_using_json"
   ]
  }
 ],
 "metadata": {
  "colab": {
   "name": "Untitled4.ipynb",
   "provenance": []
  },
  "kernelspec": {
   "display_name": "Python 3 (ipykernel)",
   "language": "python",
   "name": "python3"
  },
  "language_info": {
   "codemirror_mode": {
    "name": "ipython",
    "version": 3
   },
   "file_extension": ".py",
   "mimetype": "text/x-python",
   "name": "python",
   "nbconvert_exporter": "python",
   "pygments_lexer": "ipython3",
   "version": "3.9.7"
  }
 },
 "nbformat": 4,
 "nbformat_minor": 1
}
