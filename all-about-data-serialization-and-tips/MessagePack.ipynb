{
 "cells": [
  {
   "cell_type": "code",
   "execution_count": null,
   "metadata": {
    "id": "M4oFFtEwOSTO"
   },
   "outputs": [],
   "source": [
    "data = {\n",
    "  'email': 'test@gmail.com',\n",
    "  'password': 'ABCD1234efgh!'\n",
    "}"
   ]
  },
  {
   "cell_type": "markdown",
   "metadata": {
    "id": "0pkXmlUvSpLc"
   },
   "source": [
    "# [MessagePack](https://https://morioh.com/p/5d42a887a686)"
   ]
  },
  {
   "cell_type": "markdown",
   "metadata": {
    "id": "o5sIyOiRUY-I"
   },
   "source": [
    "### Installation"
   ]
  },
  {
   "cell_type": "code",
   "execution_count": null,
   "metadata": {
    "colab": {
     "base_uri": "https://localhost:8080/"
    },
    "id": "e7XR8meYSojU",
    "outputId": "e0ee2f47-bcd8-4dde-d356-177d00656ca7"
   },
   "outputs": [
    {
     "name": "stdout",
     "output_type": "stream",
     "text": [
      "Looking in indexes: https://pypi.org/simple, https://us-python.pkg.dev/colab-wheels/public/simple/\n",
      "Requirement already satisfied: msgpack in /usr/local/lib/python3.7/dist-packages (1.0.4)\n"
     ]
    }
   ],
   "source": [
    "%pip install -U msgpack"
   ]
  },
  {
   "cell_type": "markdown",
   "metadata": {
    "id": "PCQTj47hWitg"
   },
   "source": [
    "### Usage"
   ]
  },
  {
   "cell_type": "markdown",
   "metadata": {
    "id": "IGgVm5BTWFBI"
   },
   "source": [
    "msgpack.packb() or msgpack.dumps() for data serialization into sequence bytes (file-like object)"
   ]
  },
  {
   "cell_type": "code",
   "execution_count": null,
   "metadata": {
    "colab": {
     "base_uri": "https://localhost:8080/"
    },
    "id": "xvIst___WvKu",
    "outputId": "f56f32f0-e9ce-40c2-d945-7a93ae5f8f82"
   },
   "outputs": [
    {
     "name": "stdout",
     "output_type": "stream",
     "text": [
      "Type: <class 'bytes'>\n",
      "\n",
      "b'\\x82\\xa5email\\xaetest@gmail.com\\xa8password\\xadABCD1234efgh!'\n"
     ]
    }
   ],
   "source": [
    "import msgpack\n",
    "data_encoded_using_msgpack = msgpack.packb(data)\n",
    "\n",
    "print('Type:', type(data_encoded_using_msgpack))\n",
    "print()\n",
    "print(data_encoded_using_msgpack)"
   ]
  },
  {
   "cell_type": "markdown",
   "metadata": {
    "id": "pmm_aymxX_Pu"
   },
   "source": [
    "msgpack.unpackb() or mspack.loads() for data deserialization into object in memory"
   ]
  },
  {
   "cell_type": "code",
   "execution_count": null,
   "metadata": {
    "colab": {
     "base_uri": "https://localhost:8080/"
    },
    "id": "yk5S4_MYX92g",
    "outputId": "e3668f1e-844c-495a-87e6-b67fa966be37"
   },
   "outputs": [
    {
     "name": "stdout",
     "output_type": "stream",
     "text": [
      "Type: <class 'dict'>\n",
      "\n",
      "{'email': 'test@gmail.com', 'password': 'ABCD1234efgh!'}\n"
     ]
    }
   ],
   "source": [
    "import msgpack\n",
    "data_decoded_using_msgpack = msgpack.unpackb(data_encoded_using_msgpack)\n",
    "\n",
    "print('Type:', type(data_decoded_using_msgpack))\n",
    "print()\n",
    "print(data_decoded_using_msgpack)"
   ]
  }
 ],
 "metadata": {
  "colab": {
   "name": "Untitled4.ipynb",
   "provenance": []
  },
  "kernelspec": {
   "display_name": "Python 3 (ipykernel)",
   "language": "python",
   "name": "python3"
  },
  "language_info": {
   "codemirror_mode": {
    "name": "ipython",
    "version": 3
   },
   "file_extension": ".py",
   "mimetype": "text/x-python",
   "name": "python",
   "nbconvert_exporter": "python",
   "pygments_lexer": "ipython3",
   "version": "3.9.7"
  }
 },
 "nbformat": 4,
 "nbformat_minor": 1
}
