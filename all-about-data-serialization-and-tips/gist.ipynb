{
  "nbformat": 4,
  "nbformat_minor": 0,
  "metadata": {
    "colab": {
      "name": "Untitled4.ipynb",
      "provenance": []
    },
    "kernelspec": {
      "name": "python3",
      "display_name": "Python 3"
    },
    "language_info": {
      "name": "python"
    }
  },
  "cells": [
    {
      "cell_type": "code",
      "source": [
        "data = {\n",
        "  'email': 'test@gmail.com',\n",
        "  'password': 'ABCD1234efgh!'\n",
        "}"
      ],
      "metadata": {
        "id": "M4oFFtEwOSTO"
      },
      "execution_count": null,
      "outputs": []
    },
    {
      "cell_type": "markdown",
      "source": [
        "# JSON"
      ],
      "metadata": {
        "id": "F1oDkExaM12s"
      }
    },
    {
      "cell_type": "markdown",
      "source": [
        "json.dumps() for data serialization into sequence of bytes"
      ],
      "metadata": {
        "id": "kcSVgBk2M8ZK"
      }
    },
    {
      "cell_type": "code",
      "execution_count": null,
      "metadata": {
        "colab": {
          "base_uri": "https://localhost:8080/",
          "height": 71
        },
        "id": "0WBLv85PLqNA",
        "outputId": "9034d089-0cb9-4a5d-efc9-78327064bf7d"
      },
      "outputs": [
        {
          "output_type": "stream",
          "name": "stdout",
          "text": [
            "Type: <class 'str'>\n",
            "\n"
          ]
        },
        {
          "output_type": "execute_result",
          "data": {
            "text/plain": [
              "'{\"email\": \"test@gmail.com\", \"password\": \"ABCD1234efgh!\"}'"
            ],
            "application/vnd.google.colaboratory.intrinsic+json": {
              "type": "string"
            }
          },
          "metadata": {},
          "execution_count": 25
        }
      ],
      "source": [
        "import json\n",
        "\n",
        "data_encoded_using_json = json.dumps(data)\n",
        "\n",
        "print('Type:', type(data_encoded_using_json))\n",
        "print()\n",
        "data_encoded_using_json"
      ]
    },
    {
      "cell_type": "markdown",
      "source": [
        "json.loads() for data deserialization into object in memory"
      ],
      "metadata": {
        "id": "RBR3FxehQhNs"
      }
    },
    {
      "cell_type": "code",
      "source": [
        "import json\n",
        "\n",
        "data_decoded_using_json = json.loads(data_encoded_using_json)\n",
        "\n",
        "print('Type:', type(data_decoded_using_json))\n",
        "print()\n",
        "data_decoded_using_json"
      ],
      "metadata": {
        "colab": {
          "base_uri": "https://localhost:8080/"
        },
        "id": "iyRdux3bQmv2",
        "outputId": "f63d4dff-829d-4d4f-e6c2-f431c7d1fae0"
      },
      "execution_count": null,
      "outputs": [
        {
          "output_type": "stream",
          "name": "stdout",
          "text": [
            "Type: <class 'dict'>\n",
            "\n"
          ]
        },
        {
          "output_type": "execute_result",
          "data": {
            "text/plain": [
              "{'email': 'test@gmail.com', 'password': 'ABCD1234efgh!'}"
            ]
          },
          "metadata": {},
          "execution_count": 28
        }
      ]
    },
    {
      "cell_type": "markdown",
      "source": [
        "# [MessagePack](https://https://morioh.com/p/5d42a887a686)"
      ],
      "metadata": {
        "id": "0pkXmlUvSpLc"
      }
    },
    {
      "cell_type": "markdown",
      "source": [
        "### Installation"
      ],
      "metadata": {
        "id": "o5sIyOiRUY-I"
      }
    },
    {
      "cell_type": "code",
      "source": [
        "%pip install -U msgpack"
      ],
      "metadata": {
        "colab": {
          "base_uri": "https://localhost:8080/"
        },
        "id": "e7XR8meYSojU",
        "outputId": "e0ee2f47-bcd8-4dde-d356-177d00656ca7"
      },
      "execution_count": null,
      "outputs": [
        {
          "output_type": "stream",
          "name": "stdout",
          "text": [
            "Looking in indexes: https://pypi.org/simple, https://us-python.pkg.dev/colab-wheels/public/simple/\n",
            "Requirement already satisfied: msgpack in /usr/local/lib/python3.7/dist-packages (1.0.4)\n"
          ]
        }
      ]
    },
    {
      "cell_type": "markdown",
      "source": [
        "### Usage"
      ],
      "metadata": {
        "id": "PCQTj47hWitg"
      }
    },
    {
      "cell_type": "markdown",
      "source": [
        "msgpack.packb() or msgpack.dumps() for data serialization into sequence bytes (file-like object)"
      ],
      "metadata": {
        "id": "IGgVm5BTWFBI"
      }
    },
    {
      "cell_type": "code",
      "source": [
        "import msgpack\n",
        "data_encoded_using_msgpack = msgpack.packb(data)\n",
        "\n",
        "print('Type:', type(data_encoded_using_msgpack))\n",
        "print()\n",
        "print(data_encoded_using_msgpack)"
      ],
      "metadata": {
        "colab": {
          "base_uri": "https://localhost:8080/"
        },
        "id": "xvIst___WvKu",
        "outputId": "f56f32f0-e9ce-40c2-d945-7a93ae5f8f82"
      },
      "execution_count": null,
      "outputs": [
        {
          "output_type": "stream",
          "name": "stdout",
          "text": [
            "Type: <class 'bytes'>\n",
            "\n",
            "b'\\x82\\xa5email\\xaetest@gmail.com\\xa8password\\xadABCD1234efgh!'\n"
          ]
        }
      ]
    },
    {
      "cell_type": "markdown",
      "source": [
        "msgpack.unpackb() or mspack.loads() for data deserialization into object in memory"
      ],
      "metadata": {
        "id": "pmm_aymxX_Pu"
      }
    },
    {
      "cell_type": "code",
      "source": [
        "import msgpack\n",
        "data_decoded_using_msgpack = msgpack.unpackb(data_encoded_using_msgpack)\n",
        "\n",
        "print('Type:', type(data_decoded_using_msgpack))\n",
        "print()\n",
        "print(data_decoded_using_msgpack)"
      ],
      "metadata": {
        "colab": {
          "base_uri": "https://localhost:8080/"
        },
        "id": "yk5S4_MYX92g",
        "outputId": "e3668f1e-844c-495a-87e6-b67fa966be37"
      },
      "execution_count": null,
      "outputs": [
        {
          "output_type": "stream",
          "name": "stdout",
          "text": [
            "Type: <class 'dict'>\n",
            "\n",
            "{'email': 'test@gmail.com', 'password': 'ABCD1234efgh!'}\n"
          ]
        }
      ]
    }
  ]
}